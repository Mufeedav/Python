{
 "cells": [
  {
   "cell_type": "code",
   "execution_count": 61,
   "id": "65c125d5-467a-43cc-be9b-d70127cbfc68",
   "metadata": {},
   "outputs": [
    {
     "name": "stdin",
     "output_type": "stream",
     "text": [
      "Enter the month : 15\n"
     ]
    },
    {
     "name": "stdout",
     "output_type": "stream",
     "text": [
      "invalid\n"
     ]
    }
   ],
   "source": [
    "#Exercise 1 Name your file: MonthNames.py Write a program that reads an integer value between 1 and 12 from the user \n",
    "#and prints output the corresponding month of the year. \n",
    "#An example run of the program (numbers in bold are typed in by the user) Enter the month: 3 Month 3 is March\n",
    "month=int(input(\"Enter the month :\"))\n",
    "if(month==1):\n",
    "    print(\"January\")\n",
    "elif(month==2):\n",
    "    print(\"February\")\n",
    "elif(month==3):\n",
    "    print(\"March\")\n",
    "elif(month==4):\n",
    "    print(\"April\")\n",
    "elif(month==5):\n",
    "    print(\"May\")\n",
    "elif(month==6):\n",
    "    print(\"June\")\n",
    "elif(month==7):\n",
    "    print(\"July\")\n",
    "elif(month==8):\n",
    "    print(\"August\")\n",
    "elif(month==9):\n",
    "    print(\"September\")\n",
    "elif(month==10):\n",
    "    print(\"october\")\n",
    "elif(month==11):\n",
    "    print(\"November\")\n",
    "elif(month==12):\n",
    "    print(\"December\")\n",
    "else:\n",
    "    print(\"invalid\")\n"
   ]
  },
  {
   "cell_type": "code",
   "execution_count": 77,
   "id": "ca437bad-8665-41ec-9e82-bc92cb467cba",
   "metadata": {},
   "outputs": [
    {
     "name": "stdin",
     "output_type": "stream",
     "text": [
      "Enter your age 87\n"
     ]
    },
    {
     "name": "stdout",
     "output_type": "stream",
     "text": [
      "Your ticket costs 2.0 pounds\n"
     ]
    }
   ],
   "source": [
    "#Exercise 2 A certain cinema currently sells tickets for a full price of 6 pounds, \n",
    "#but always sells tickets for half price to people who are less than 16 years old, and for a third of the price for people who are 60 years old or more. \n",
    "#An example run of the program (numbers in bold are typed in by the user) Enter your age: 63 Your ticket costs £2.0\n",
    "ticket_charge=6\n",
    "age=int(input(\"Enter your age\"))\n",
    "\n",
    "if(age<16):\n",
    "    ticket=ticket_charge/2\n",
    "elif(age>=60):\n",
    "    ticket=ticket_charge/3\n",
    "else:\n",
    "   ticket=ticket_charge\n",
    "\n",
    "print(f\"Your ticket costs {ticket} pounds\")"
   ]
  },
  {
   "cell_type": "code",
   "execution_count": 7,
   "id": "ef781477-b06c-4beb-877f-e6a3c7396eba",
   "metadata": {},
   "outputs": [
    {
     "name": "stdin",
     "output_type": "stream",
     "text": [
      "Enter your weight in kilograms 90\n",
      "Enter your height in meters 1.7\n"
     ]
    },
    {
     "name": "stdout",
     "output_type": "stream",
     "text": [
      "Your BMI is: 31.14186851211073 You are in the Obese range\n"
     ]
    }
   ],
   "source": [
    "#Exercise 3 Name your file: BodyMassIndex.py Write a program to calculate your BMI and give weight status.\n",
    "#Body Mass Index (BMI) is an internationally used measurement to check if you are a healthy weight for your height.\n",
    "#The metric BMI formula accepts weight in kilograms and height in meters: \n",
    "#BMI= weight(kg)/height2(m2) BMI Weight Status Categories table BMI range - kg/m2 Category Below 18.5 Underweight \n",
    "#18.5 -24.9 Normal 25 - 29.9 Overweight 30 & Above Obese An example run of the program (numbers in bold are typed in by the user) \n",
    "#Enter your weight in (kg): 75 Enter your height in (m): 1.70 Your BMI is: 25.95 You are in the “overweight” range\n",
    "\n",
    "weight=float(input(\"Enter your weight in kilograms\"))\n",
    "height=float(input(\"Enter your height in meters\"))\n",
    "\n",
    "BMI=weight/(height**2)\n",
    "if BMI<18.5:\n",
    "    category=\"Underweight\"\n",
    "elif BMI>=18.5 and BMI<=24.9:\n",
    "    category=\"Normal\"\n",
    "elif BMI>=25 and BMI<=29.9:\n",
    "    category=\"Overweight\"\n",
    "else:\n",
    "    category=\"Obese\"\n",
    "\n",
    "print(f\"Your BMI is: {BMI} You are in the {category} range\")\n",
    "\n",
    "\n",
    "\n"
   ]
  },
  {
   "cell_type": "code",
   "execution_count": 19,
   "id": "b00ceb16-6038-46cc-9e38-45b51e21ff1a",
   "metadata": {},
   "outputs": [
    {
     "name": "stdin",
     "output_type": "stream",
     "text": [
      "Enter the first number 23\n",
      "Enter the second number 65\n",
      "Enter the third number 78\n"
     ]
    },
    {
     "name": "stdout",
     "output_type": "stream",
     "text": [
      "The greatest number is 78\n"
     ]
    }
   ],
   "source": [
    "# Exercise 4 Write a Python program to receive 3 numbers from the user and \n",
    "# print the greatest among them.\n",
    "a=int(input(\"Enter the first number\"))\n",
    "b=int(input(\"Enter the second number\"))\n",
    "c=int(input(\"Enter the third number\"))\n",
    "if(a>b)and (a>c):\n",
    "    greatest=a\n",
    "elif(b>a) and(b>c):\n",
    "    greatest=b\n",
    "else:\n",
    "    greatest=c\n",
    "\n",
    "print(\"The greatest number is\",greatest)\n",
    "\n",
    "\n"
   ]
  },
  {
   "cell_type": "code",
   "execution_count": 27,
   "id": "8e5e660f-23d5-4a3b-b514-7ac71c0ee2e7",
   "metadata": {},
   "outputs": [
    {
     "name": "stdin",
     "output_type": "stream",
     "text": [
      "Enter the number 5\n"
     ]
    },
    {
     "name": "stdout",
     "output_type": "stream",
     "text": [
      "The factorial of 5 is 120.\n"
     ]
    }
   ],
   "source": [
    "#Exercise 5 Find the factorial of a given number using loops\n",
    "#(note the number is received from the user)\n",
    "number=int(input(\"Enter the number\"))\n",
    "\n",
    "factorial = 1\n",
    "\n",
    "if number < 0:\n",
    "    print(\"Factorial is not defined for negative numbers.\")\n",
    "elif number == 0:\n",
    "    print(\"The factorial of 0 is 1.\")\n",
    "else:\n",
    "    for i in range(1, number + 1):\n",
    "        factorial *= i\n",
    "\n",
    "    # Print the result\n",
    "    print(f\"The factorial of {number} is {factorial}.\")"
   ]
  },
  {
   "cell_type": "code",
   "execution_count": 29,
   "id": "4bdbf3d0-4405-476a-ac62-9b241f577f8c",
   "metadata": {},
   "outputs": [
    {
     "name": "stdin",
     "output_type": "stream",
     "text": [
      "Enter a number:  657\n"
     ]
    },
    {
     "name": "stdout",
     "output_type": "stream",
     "text": [
      "The reversed number is: 756\n"
     ]
    }
   ],
   "source": [
    " #Exercise 6 Reverse a number using while loop\n",
    "number = int(input(\"Enter a number: \"))\n",
    "\n",
    "reversed_number = 0\n",
    "while number > 0:\n",
    "    digit = number % 10\n",
    "    reversed_number = reversed_number * 10 + digit\n",
    "    number = number // 10\n",
    "\n",
    "print(f\"The reversed number is: {reversed_number}\")"
   ]
  },
  {
   "cell_type": "code",
   "execution_count": 31,
   "id": "b25ed8e5-f279-4c6d-934e-b211dc197b21",
   "metadata": {},
   "outputs": [
    {
     "name": "stdin",
     "output_type": "stream",
     "text": [
      "Enter a number:  3\n",
      "Enter the range limit:  10\n"
     ]
    },
    {
     "name": "stdout",
     "output_type": "stream",
     "text": [
      "3 6 9 "
     ]
    }
   ],
   "source": [
    "#Exercise 7 Finding the multiples of a number using loop\n",
    "\n",
    "number = int(input(\"Enter a number: \"))\n",
    "limit = int(input(\"Enter the range limit: \"))\n",
    "\n",
    "for i in range(1, limit + 1):\n",
    "    if i % number == 0:\n",
    "        print(i, end=\" \")"
   ]
  },
  {
   "cell_type": "code",
   "execution_count": 33,
   "id": "9b904ee9-9ccd-4088-a6e1-588434f56bb1",
   "metadata": {},
   "outputs": [
    {
     "name": "stdin",
     "output_type": "stream",
     "text": [
      "Enter a value:  h\n"
     ]
    },
    {
     "name": "stdout",
     "output_type": "stream",
     "text": [
      "h\n"
     ]
    },
    {
     "name": "stdin",
     "output_type": "stream",
     "text": [
      "Enter a value:  the\n"
     ]
    },
    {
     "name": "stdout",
     "output_type": "stream",
     "text": [
      "the\n"
     ]
    },
    {
     "name": "stdin",
     "output_type": "stream",
     "text": [
      "Enter a value:  there\n"
     ]
    },
    {
     "name": "stdout",
     "output_type": "stream",
     "text": [
      "there\n"
     ]
    },
    {
     "name": "stdin",
     "output_type": "stream",
     "text": [
      "Enter a value:  done\n"
     ]
    },
    {
     "name": "stdout",
     "output_type": "stream",
     "text": [
      "done\n"
     ]
    }
   ],
   "source": [
    "#Exercise 8 Write a program to print the inputted value as it is and break the loop if the value is 'done'. Example run of the program :\n",
    "#hello there hello there :finished finished :done Done\n",
    "while True:\n",
    "    user_input = input(\"Enter a value: \")\n",
    "    print(user_input)\n",
    "    \n",
    "    if user_input == 'done':\n",
    "        break"
   ]
  },
  {
   "cell_type": "code",
   "execution_count": 35,
   "id": "791d5059-bf3c-4320-89ff-6f271852a79d",
   "metadata": {},
   "outputs": [
    {
     "name": "stdout",
     "output_type": "stream",
     "text": [
      "1\n",
      "2\n",
      "Fizz\n",
      "4\n",
      "Buzz\n",
      "Fizz\n",
      "7\n",
      "8\n",
      "Fizz\n",
      "Buzz\n"
     ]
    }
   ],
   "source": [
    "#Exercise 9 Write a program that prints the numbers from 1 to 10. \n",
    "#But for multiples of three print \"Fizz\" instead of the number and for the multiple of \n",
    "#five print \"Buzz\". \n",
    "#For numbers which are multiples of both three and five print \"FizzBuzz\"\n",
    "\n",
    "for i in range(1, 11):\n",
    "    if i % 3 == 0 and i % 5 == 0:\n",
    "        print(\"FizzBuzz\")\n",
    "    elif i % 3 == 0:\n",
    "        print(\"Fizz\")\n",
    "    elif i % 5 == 0:\n",
    "        print(\"Buzz\")\n",
    "    else:\n",
    "        print(i)"
   ]
  },
  {
   "cell_type": "code",
   "execution_count": 37,
   "id": "d7492b71-47a9-4fde-8260-3ab77d61d24c",
   "metadata": {},
   "outputs": [
    {
     "name": "stdout",
     "output_type": "stream",
     "text": [
      "5 4 3 2 1 \n",
      "4 3 2 1 \n",
      "3 2 1 \n",
      "2 1 \n",
      "1 \n"
     ]
    }
   ],
   "source": [
    "#Exercise 10 Write a program to print the following pattern: 5 4 3 2 1 4 3 2 1 3 2 1 2 1 1\n",
    "for i in range(5, 0, -1):\n",
    "    for j in range(i, 0, -1):\n",
    "        print(j, end=\" \")\n",
    "    print() "
   ]
  },
  {
   "cell_type": "code",
   "execution_count": null,
   "id": "d3fc7266-a6e7-44fb-ab13-64db85dba661",
   "metadata": {},
   "outputs": [],
   "source": []
  }
 ],
 "metadata": {
  "kernelspec": {
   "display_name": "Python [conda env:base] *",
   "language": "python",
   "name": "conda-base-py"
  },
  "language_info": {
   "codemirror_mode": {
    "name": "ipython",
    "version": 3
   },
   "file_extension": ".py",
   "mimetype": "text/x-python",
   "name": "python",
   "nbconvert_exporter": "python",
   "pygments_lexer": "ipython3",
   "version": "3.12.7"
  }
 },
 "nbformat": 4,
 "nbformat_minor": 5
}
