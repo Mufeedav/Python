{
 "cells": [
  {
   "cell_type": "code",
   "execution_count": 25,
   "id": "ea4f3c7c-3aa7-4558-aabf-3035d6adc7b9",
   "metadata": {},
   "outputs": [
    {
     "name": "stdout",
     "output_type": "stream",
     "text": [
      "The sum of first two arguments is:  15\n",
      "The product of three arguments is:  300\n",
      "The product of three arguments is:  40\n"
     ]
    }
   ],
   "source": [
    "#Exercise 1: (score : 2) Create a function that takes in three arguments, two of which are optional. \n",
    "#The first argument should be a required positional argument, the second argument should be a keyword argument with a \n",
    "#default value of 10, and the third argument should be a keyword argument with a default value of None. \n",
    "#The function should print the sum of the first two arguments if the third argument is None, and \n",
    "#print the product of all three arguments if the third argument is not None.\n",
    "\n",
    "def sample (a,b=10, c=None):\n",
    "    if c is None:\n",
    "        print(\"The sum of first two arguments is: \",a+b)\n",
    "    else:\n",
    "        print(\"The product of three arguments is: \",a*b*c)\n",
    "\n",
    "sample(5)\n",
    "sample(10,c=3)\n",
    "b1=4\n",
    "sample(5,b1,c=2)\n",
    "\n"
   ]
  },
  {
   "cell_type": "code",
   "execution_count": 27,
   "id": "98796c1c-42fb-4b79-933f-dfd8e74422f4",
   "metadata": {},
   "outputs": [
    {
     "name": "stdout",
     "output_type": "stream",
     "text": [
      "['abcde', 'abcdefg', 'abcdefgh']\n"
     ]
    }
   ],
   "source": [
    "# Exercise 2:  Write a function that takes in a list of strings and returns a new list with only the strings that have a length greater\n",
    "# than or equal to 5.\n",
    "def sample (lst_str):\n",
    "    result_str=[]\n",
    "    for i in lst_str:\n",
    "            if len(i)>=5:\n",
    "                result_str.append(i)\n",
    "    return result_str\n",
    "\n",
    "input_list=[\"abcde\",\"st\",\"strn\",\"abcdefg\",\"abcdefgh\"]\n",
    "strings=sample(input_list)\n",
    "print(strings)\n",
    "\n"
   ]
  },
  {
   "cell_type": "code",
   "execution_count": 29,
   "id": "e364ccbd-f530-48e2-abf0-8cf7f671a8b1",
   "metadata": {},
   "outputs": [
    {
     "name": "stdout",
     "output_type": "stream",
     "text": [
      "3*5+2= 17\n"
     ]
    }
   ],
   "source": [
    "#Exercise 3:  Write a Python program to evaluate a given mathematical expression using the eval() function. expression = \"3 * 5 + 2\"\n",
    "exprsn=\"3*5+2\"\n",
    "result=eval(exprsn)\n",
    "print(\"3*5+2=\",result)\n",
    "    "
   ]
  },
  {
   "cell_type": "code",
   "execution_count": 31,
   "id": "81e6f1b0-3f73-4a88-852f-21cf55057038",
   "metadata": {},
   "outputs": [
    {
     "name": "stdout",
     "output_type": "stream",
     "text": [
      "Prime numbers in the list: [2, 5, 23, 17, 3]\n"
     ]
    }
   ],
   "source": [
    "# Exercise 4: (score : 2) Write a Python program to filter out the prime numbers from a given list of integers using the filter() function.\n",
    "def is_prime(n):\n",
    "    if n <= 1:\n",
    "        return False  \n",
    "    for i in range(2, int(n**0.5) + 1):\n",
    "        if n % i == 0:\n",
    "            return False \n",
    "    return True\n",
    "\n",
    "numbers = [2,5,23,12,17,3,4,1]\n",
    "prime_numbers = filter(is_prime, numbers)\n",
    "\n",
    "prime_numbers_list = list(prime_numbers)\n",
    "print(\"Prime numbers in the list:\", prime_numbers_list)"
   ]
  },
  {
   "cell_type": "code",
   "execution_count": 33,
   "id": "5f48650a-e4cb-4de2-ad25-6b859c477413",
   "metadata": {},
   "outputs": [
    {
     "name": "stdout",
     "output_type": "stream",
     "text": [
      "['HELLO', 'BANANA', 'ELSA']\n"
     ]
    }
   ],
   "source": [
    "# Exercise 5: (score : 2) Write a Python program to convert a list of strings to uppercase using the map() function\n",
    "lst_str=[\"hello\",\"banana\",\"elsa\"]\n",
    "uppr=map(str.upper,lst_str)\n",
    "\n",
    "print(list(uppr))\n",
    "\n"
   ]
  },
  {
   "cell_type": "code",
   "execution_count": null,
   "id": "91294945-aa89-4edf-aef5-ea2db92e0d4e",
   "metadata": {},
   "outputs": [],
   "source": []
  }
 ],
 "metadata": {
  "kernelspec": {
   "display_name": "Python [conda env:base] *",
   "language": "python",
   "name": "conda-base-py"
  },
  "language_info": {
   "codemirror_mode": {
    "name": "ipython",
    "version": 3
   },
   "file_extension": ".py",
   "mimetype": "text/x-python",
   "name": "python",
   "nbconvert_exporter": "python",
   "pygments_lexer": "ipython3",
   "version": "3.12.7"
  }
 },
 "nbformat": 4,
 "nbformat_minor": 5
}
