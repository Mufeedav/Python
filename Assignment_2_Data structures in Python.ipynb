{
 "cells": [
  {
   "cell_type": "code",
   "execution_count": 17,
   "id": "e62386d6-33cd-4052-b724-a5a0a3e7d904",
   "metadata": {},
   "outputs": [
    {
     "name": "stdout",
     "output_type": "stream",
     "text": [
      "The elements in the list are  [10, 100, 45, 23, 78]\n",
      "<class 'list'>\n"
     ]
    }
   ],
   "source": [
    "# Exercise Q1. Create a list of 5 random numbers and print the list.\n",
    "list1=[10,100,45,23,78]\n",
    "print(\"The elements in the list are \",list1)\n",
    "print(type(list1))"
   ]
  },
  {
   "cell_type": "code",
   "execution_count": 19,
   "id": "151a4865-b305-4c94-b215-fb97d9e9f74d",
   "metadata": {},
   "outputs": [
    {
     "name": "stdout",
     "output_type": "stream",
     "text": [
      "The updated list is  [10, 100, 45, 23, 78, 10, 15, 20]\n"
     ]
    }
   ],
   "source": [
    "#  Q2. Insert 3 new values to the list and print the updated list.\n",
    "list1.extend([10,15,20])\n",
    "print(\"The updated list is \",list1)"
   ]
  },
  {
   "cell_type": "code",
   "execution_count": 29,
   "id": "6f929565-2446-49e8-8e11-50c7ca99df5d",
   "metadata": {},
   "outputs": [
    {
     "name": "stdout",
     "output_type": "stream",
     "text": [
      "10\n",
      "100\n",
      "45\n",
      "23\n",
      "78\n",
      "10\n",
      "15\n",
      "20\n"
     ]
    }
   ],
   "source": [
    "#Q3. Try to use a for loop to print each element in the list.\n",
    "for i in list1 :\n",
    "    print(i)"
   ]
  },
  {
   "cell_type": "code",
   "execution_count": 35,
   "id": "5a26a0de-7d2e-434e-b7bf-9baf404bf238",
   "metadata": {},
   "outputs": [
    {
     "name": "stdout",
     "output_type": "stream",
     "text": [
      "{' name': 'John', 'age': 25, 'address': 'New York'}\n"
     ]
    }
   ],
   "source": [
    "# Topic: Dictionary Exercise Q1. Create a dictionary \n",
    "#with keys 'name', 'age', and 'address' and values 'John', 25, and 'New York' respectively.\n",
    "person={\n",
    "   ' name': 'John',\n",
    "    'age' : 25,\n",
    "    'address':'New York'\n",
    "}\n",
    "print(person)"
   ]
  },
  {
   "cell_type": "code",
   "execution_count": 77,
   "id": "b0e3cad8-bd3c-4394-bdf3-b8a7909a8383",
   "metadata": {},
   "outputs": [
    {
     "name": "stdout",
     "output_type": "stream",
     "text": [
      "{' name': 'John', 'age': 25, 'address': 'New York', 'phone': 1234567890}\n"
     ]
    }
   ],
   "source": [
    "#  Q2. Add a new key-value pair to the \n",
    "# dictionary created in Q1 with key 'phone' and value '1234567890'. \n",
    "person['phone']=1234567890\n",
    "\n",
    "print(person)\n",
    "\n"
   ]
  },
  {
   "cell_type": "code",
   "execution_count": 99,
   "id": "331c843e-2a75-4a54-8d95-3c95a0e01111",
   "metadata": {},
   "outputs": [
    {
     "name": "stdout",
     "output_type": "stream",
     "text": [
      "The set elements are  {1, 2, 3, 4, 5}\n"
     ]
    }
   ],
   "source": [
    "#Topic: Set Exercise Q1.Create a set with values 1, 2, 3, 4, and 5.\n",
    "set1={1,2,3,4,5}\n",
    "print(\"The set elements are \",set1)\n"
   ]
  },
  {
   "cell_type": "code",
   "execution_count": 101,
   "id": "996d748e-e002-48af-824d-7fea9d946f58",
   "metadata": {},
   "outputs": [
    {
     "name": "stdout",
     "output_type": "stream",
     "text": [
      "the updated set is  {1, 2, 3, 4, 5, 6}\n"
     ]
    }
   ],
   "source": [
    "# Q2. Add the value 6 to the set created in Q1\n",
    "set1.add(6)\n",
    "print(\"the updated set is \",set1)"
   ]
  },
  {
   "cell_type": "code",
   "execution_count": 103,
   "id": "e52844ce-de7e-46c0-8171-83ba5a9cb019",
   "metadata": {},
   "outputs": [
    {
     "name": "stdout",
     "output_type": "stream",
     "text": [
      "the set elements after deleting number 3 is  {1, 2, 4, 5, 6}\n"
     ]
    }
   ],
   "source": [
    "# Q3. Remove the value 3 from the set created in Q1. \n",
    "set1.remove(3)\n",
    "print(\"the set elements after deleting number 3 is \",set1)\n"
   ]
  },
  {
   "cell_type": "code",
   "execution_count": 93,
   "id": "78425a0d-664b-49c3-aaa3-766f3bab5f4f",
   "metadata": {},
   "outputs": [
    {
     "name": "stdout",
     "output_type": "stream",
     "text": [
      "(1, 2, 3, 4)\n"
     ]
    }
   ],
   "source": [
    "# Topic:Tuple Exercise Q1. Create a tuple with values 1, 2, 3, and 4 \n",
    "tuple1=(1,2,3,4,)\n",
    "print(tuple1)"
   ]
  },
  {
   "cell_type": "code",
   "execution_count": 95,
   "id": "ee78bdce-e33d-4714-8c19-b5d9606cd8c5",
   "metadata": {},
   "outputs": [
    {
     "name": "stdout",
     "output_type": "stream",
     "text": [
      "4\n"
     ]
    }
   ],
   "source": [
    "#Q2. Print the length of the tuple created in Q1.\n",
    "print(len(tuple1))\n",
    "\n",
    "\n",
    "\n"
   ]
  },
  {
   "cell_type": "code",
   "execution_count": null,
   "id": "5ee2c3d9-51ea-4dcc-be5b-79f8a75d6cd7",
   "metadata": {},
   "outputs": [],
   "source": []
  }
 ],
 "metadata": {
  "kernelspec": {
   "display_name": "Python [conda env:base] *",
   "language": "python",
   "name": "conda-base-py"
  },
  "language_info": {
   "codemirror_mode": {
    "name": "ipython",
    "version": 3
   },
   "file_extension": ".py",
   "mimetype": "text/x-python",
   "name": "python",
   "nbconvert_exporter": "python",
   "pygments_lexer": "ipython3",
   "version": "3.12.7"
  }
 },
 "nbformat": 4,
 "nbformat_minor": 5
}
