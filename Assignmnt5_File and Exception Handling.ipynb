{
 "cells": [
  {
   "cell_type": "code",
   "execution_count": 15,
   "id": "e474c0cd-9295-47d3-bb32-d32f4e451820",
   "metadata": {},
   "outputs": [
    {
     "name": "stdout",
     "output_type": "stream",
     "text": [
      "hello all...hw r u\n"
     ]
    }
   ],
   "source": [
    "#Exercise 1: (score : 1) Write a Python program to read a file and display its contents\n",
    "file=open(\"C:\\\\Users\\\\Admin\\\\OneDrive\\\\Desktop\\\\New folder\\\\hi.txt\",'r')\n",
    "content=file.read()\n",
    "print(content)\n",
    "file.close()"
   ]
  },
  {
   "cell_type": "code",
   "execution_count": 37,
   "id": "58bd62bc-2f3b-41e6-83dc-ecad7db89a7a",
   "metadata": {},
   "outputs": [
    {
     "name": "stdout",
     "output_type": "stream",
     "text": [
      "the copied message is \n",
      "\n",
      "hello all...hw r u\n"
     ]
    }
   ],
   "source": [
    "# Exercise 2: (score : 1) Write a Python program to copy the contents of one file to another file\n",
    "\n",
    "with open(\"C:\\\\Users\\\\Admin\\\\OneDrive\\\\Desktop\\\\New folder\\\\hi.txt\",\"r\") as file1:\n",
    "    with open(\"C:\\\\Users\\\\Admin\\\\OneDrive\\\\Desktop\\\\New folder\\\\hello.txt\",\"w\") as file2:\n",
    "        content=file1.read()\n",
    "        file2.write(content)\n",
    "\n",
    "with open(\"C:\\\\Users\\\\Admin\\\\OneDrive\\\\Desktop\\\\New folder\\\\hello.txt\",\"r\") as file2:\n",
    "    message=file2.read()\n",
    "    print(\"the copied message is \\n\")\n",
    "    print(message)\n",
    "    "
   ]
  },
  {
   "cell_type": "code",
   "execution_count": 47,
   "id": "407ff885-afa4-440f-905b-ba964e21d86b",
   "metadata": {},
   "outputs": [
    {
     "name": "stdout",
     "output_type": "stream",
     "text": [
      "the number of words is 5\n"
     ]
    }
   ],
   "source": [
    "# Exercise 3: (score : 2) Write a Python program to read the content of a file and count the total number of words in that file.\n",
    "with open(\"C:\\\\Users\\\\Admin\\\\OneDrive\\\\Desktop\\\\New folder\\\\hi.txt\",\"r\") as file:\n",
    "    content=file.read()\n",
    "    words=content.split()\n",
    "    count=len(words)\n",
    "    print(\"the number of words is\",count)"
   ]
  },
  {
   "cell_type": "code",
   "execution_count": 51,
   "id": "c1747608-2f50-4378-88f2-0b588c77bcaf",
   "metadata": {},
   "outputs": [
    {
     "name": "stdin",
     "output_type": "stream",
     "text": [
      "Please enter a number:  h\n"
     ]
    },
    {
     "name": "stdout",
     "output_type": "stream",
     "text": [
      "Oops! That was not a valid number. Please enter an integer.\n"
     ]
    }
   ],
   "source": [
    "# Exercise 4: (score : 1) Write a Python program that prompts the user to input a string and converts it to an integer.\n",
    "# Use try-except blocks to handle any exceptions that might occur\n",
    "user_input = input(\"Please enter a number: \")\n",
    "\n",
    "try:\n",
    "    number = int(user_input)\n",
    "    print(f\"The converted number is: {number}\")\n",
    "\n",
    "except ValueError:\n",
    "    print(\"Oops! That was not a valid number. Please enter an integer.\")"
   ]
  },
  {
   "cell_type": "code",
   "execution_count": 57,
   "id": "7db701fe-c454-438c-8f00-dd95425e5f8d",
   "metadata": {},
   "outputs": [
    {
     "name": "stdin",
     "output_type": "stream",
     "text": [
      "Please enter a list of integers (separated by spaces):  21 54 76\n"
     ]
    },
    {
     "name": "stdout",
     "output_type": "stream",
     "text": [
      "The list of integers is: [21, 54, 76]\n"
     ]
    }
   ],
   "source": [
    "# Exercise 5: (score : 1) Write a Python program that prompts the user to input a list of integers and raises an exception if any \n",
    "# of the integers in the list are negative. \n",
    "\n",
    "user_input = input(\"Please enter a list of integers (separated by spaces): \")\n",
    "\n",
    "try:\n",
    "    integer_list = [int(x) for x in user_input.split()]\n",
    "\n",
    "    for num in integer_list:\n",
    "        if num < 0:\n",
    "            raise ValueError(\"Negative numbers are not allowed!\")\n",
    "\n",
    "    print(\"The list of integers is:\", integer_list)\n",
    "\n",
    "except ValueError as ve:\n",
    "    print(ve)"
   ]
  },
  {
   "cell_type": "code",
   "execution_count": 63,
   "id": "0cd408ae-9eff-40bf-82d1-8f76686cabc1",
   "metadata": {},
   "outputs": [
    {
     "name": "stdin",
     "output_type": "stream",
     "text": [
      "Please enter a list of integers (separated by spaces):  h 3 s\n"
     ]
    },
    {
     "name": "stdout",
     "output_type": "stream",
     "text": [
      "Error: invalid literal for int() with base 10: 'h'\n",
      "Program has finished running.\n"
     ]
    }
   ],
   "source": [
    "# Exercise 6: (score : 2) Write a Python program that prompts the user to input a list of integers and computes the average of those integers.\n",
    "# Use try-except blocks to handle any exceptions that might occur.\n",
    "# use the finally clause to print a message indicating that the program has finished running.\n",
    "# Function to compute the average\n",
    "def compute_average():\n",
    "    try:\n",
    "        user_input = input(\"Please enter a list of integers (separated by spaces): \")\n",
    "        integer_list = [int(x) for x in user_input.split()]\n",
    "\n",
    "        average = sum(integer_list) / len(integer_list)\n",
    "\n",
    "        print(f\"The average of the entered integers is: {average}\")\n",
    "\n",
    "    except ValueError as ve:\n",
    "        # Catch invalid input (non-integer values or empty list)\n",
    "        print(f\"Error: {ve}\")\n",
    "\n",
    "    except ZeroDivisionError:\n",
    "        # Handle the case where no integers are provided (if list length is zero)\n",
    "        print(\"Error: Cannot compute average of an empty list.\")\n",
    "\n",
    "    finally:\n",
    "        # Print a message indicating that the program has finished running\n",
    "        print(\"Program has finished running.\")\n",
    "\n",
    "# Call the function\n",
    "compute_average()"
   ]
  },
  {
   "cell_type": "code",
   "execution_count": 65,
   "id": "d444d6fd-be2f-478c-b295-9d2dc419410f",
   "metadata": {},
   "outputs": [
    {
     "name": "stdin",
     "output_type": "stream",
     "text": [
      "Please enter the filename to write to:  demo\n"
     ]
    },
    {
     "name": "stdout",
     "output_type": "stream",
     "text": [
      "File 'demo' has been written successfully!\n",
      "Welcome! The file has been created and written.\n"
     ]
    }
   ],
   "source": [
    "#Exercise 7 : (score : 2) Write a Python program that prompts the user to input a filename and writes a string to that file. \n",
    "#Use try-except blocks to handle any exceptions that might occur and print a welcome message if there is no exception occurred.\n",
    "\n",
    "def write_to_file():\n",
    "    try:\n",
    "        filename = input(\"Please enter the filename to write to: \")\n",
    "        with open(filename, 'w') as file:\n",
    "            file.write(\"Hello, this is a string written to the file!\")\n",
    "            \n",
    "        print(f\"File '{filename}' has been written successfully!\")\n",
    "        print(\"Welcome! The file has been created and written.\")\n",
    "\n",
    "    except FileNotFoundError:\n",
    "        # Handle the case if the file is not found (in case of incorrect path)\n",
    "        print(\"Error: The specified file path is incorrect.\")\n",
    "\n",
    "    except IOError:\n",
    "        # Handle other I/O errors (permissions, file system issues, etc.)\n",
    "        print(\"Error: An I/O error occurred while writing to the file.\")\n",
    "\n",
    "    except Exception as e:\n",
    "        # Catch all other exceptions\n",
    "        print(f\"An unexpected error occurred: {e}\")\n",
    "\n",
    "# Call the function to run the program\n",
    "write_to_file()"
   ]
  },
  {
   "cell_type": "code",
   "execution_count": null,
   "id": "1be297e4-80ad-4bf5-b932-0f3a17cc43bb",
   "metadata": {},
   "outputs": [],
   "source": []
  }
 ],
 "metadata": {
  "kernelspec": {
   "display_name": "Python [conda env:base] *",
   "language": "python",
   "name": "conda-base-py"
  },
  "language_info": {
   "codemirror_mode": {
    "name": "ipython",
    "version": 3
   },
   "file_extension": ".py",
   "mimetype": "text/x-python",
   "name": "python",
   "nbconvert_exporter": "python",
   "pygments_lexer": "ipython3",
   "version": "3.12.7"
  }
 },
 "nbformat": 4,
 "nbformat_minor": 5
}
