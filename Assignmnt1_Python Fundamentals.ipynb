{
 "cells": [
  {
   "cell_type": "code",
   "execution_count": 11,
   "id": "eb69c3a1-ede6-429a-ba05-7340095008b2",
   "metadata": {},
   "outputs": [
    {
     "name": "stdout",
     "output_type": "stream",
     "text": [
      "Mufeeda Muhammed Shalas\n",
      "ST123 \n",
      "mufeedashalas@gmail.com\n"
     ]
    }
   ],
   "source": [
    "# Exercise 1 \n",
    "#Write Python code that prints your name, student number and email address. \n",
    "# An example runs of the program: Bob ST1001 bob@gmail.com\n",
    "print(\"Mufeeda Muhammed Shalas\")\n",
    "print(\"ST123 \")\n",
    "print(\"mufeedashalas@gmail.com\")"
   ]
  },
  {
   "cell_type": "code",
   "execution_count": 28,
   "id": "b9d2c8f9-8728-4f53-bae2-41e9003d4e05",
   "metadata": {},
   "outputs": [
    {
     "name": "stdout",
     "output_type": "stream",
     "text": [
      " Name:\tMufeeda Muhammed Shalas\n",
      " Student Code:\t123\n",
      " E-mail Address:mufeedashalas@gmail.com\n"
     ]
    }
   ],
   "source": [
    "# Exercise 2 \n",
    "# Write Python code that prints your name, student number and email address using escape sequences.\n",
    "# An example runs of the program: Bob ST1001 bob@gmail.com\n",
    "print(\" Name:\\tMufeeda Muhammed Shalas\\n Student Code:\\t123\\n E-mail Address:mufeedashalas@gmail.com\")"
   ]
  },
  {
   "cell_type": "code",
   "execution_count": 34,
   "id": "a222fb73-0b9e-48ad-b1b2-f8b35e626a67",
   "metadata": {},
   "outputs": [
    {
     "name": "stdout",
     "output_type": "stream",
     "text": [
      "14+7= 21\n",
      "14*7= 98\n",
      "14-7= 7\n",
      "14/7= 2.0\n"
     ]
    }
   ],
   "source": [
    "# Exercise 3 \n",
    "# Write Python code that add, subtract, multiply and divide the two numbers. \n",
    "# You can use the two numbers 14 and 7. \n",
    "# An example run of the program: 14 + 7 = 21 14 * 7 = 98 14 – 7 = 7 14 / 7 = 2\n",
    "print(\"14+7=\",14+7)\n",
    "print(\"14*7=\",14*7)\n",
    "print(\"14-7=\",14-7)\n",
    "print(\"14/7=\",14/7)\n"
   ]
  },
  {
   "cell_type": "code",
   "execution_count": 40,
   "id": "7ffd8e44-72f3-4d2b-b6c6-5973f7b70869",
   "metadata": {},
   "outputs": [
    {
     "name": "stdout",
     "output_type": "stream",
     "text": [
      "1\n",
      "2\n",
      "3\n",
      "4\n",
      "5\n"
     ]
    }
   ],
   "source": [
    "# Exercise 4 \n",
    "# Write Python code that displays the numbers from 1 to 5 as steps. \n",
    "# An example runs of the program: 1 2 3 4 5 \n",
    "for i in range (1,6):\n",
    "    print(i)\n"
   ]
  },
  {
   "cell_type": "code",
   "execution_count": 62,
   "id": "04e5740f-cf12-4042-bf4a-08e38fa7e5ae",
   "metadata": {},
   "outputs": [
    {
     "name": "stdout",
     "output_type": "stream",
     "text": [
      "\"SDK\" stands for \"Software development kit\",\n",
      "whereas \"IDE\" stands for \"Integrated Development Environment\".\n"
     ]
    }
   ],
   "source": [
    "#  Exercise 5 \n",
    "# Write Python code that outputs the following sentence (including the quotation marks and line break) \n",
    "# to the screen: \n",
    "# An example runs of the program: \"SDK\" stands for \"Software Development Kit\", \n",
    "# whereas \"IDE\" stands for \"Integrated Development Environment\".\n",
    "print(\"\\\"SDK\\\" stands for \\\"Software development kit\\\",\\nwhereas \\\"IDE\\\" stands for \\\"Integrated Development Environment\\\".\")\n",
    "\n"
   ]
  },
  {
   "cell_type": "code",
   "execution_count": 78,
   "id": "a38e72bd-9a4d-4a30-ad43-2e89eaf6a3fb",
   "metadata": {},
   "outputs": [
    {
     "name": "stdout",
     "output_type": "stream",
     "text": [
      "python is an \"awsome\" Language.\n",
      "python\n",
      "\t2023\n",
      "I'm from Entri.\n",
      "5\n",
      "e\n",
      "Entri\n",
      "2023\n",
      "Entr2023\n",
      "Entri*20"
     ]
    }
   ],
   "source": [
    "# Exercise 6 \n",
    "# Practice and check the output \n",
    "# print(\"python is an \\\"awesome\\\" language.\") \n",
    "# print(\"python\\n\\t2023\") print('I\\'m from Entri.\\b') print(\"\\65\") print(\"\\x65\") \n",
    "# print(\"Entri\", \"2023\", sep=\"\\n\") print(\"Entri\", \"2023\", sep=\"\\b\") \n",
    "# print(\"Entri\", \"2023\", sep=\"*\", end=\"\\b\\b\\b\\b\")\n",
    "print(\"python is an \\\"awsome\\\" Language.\")\n",
    "print(\"python\\n\\t2023\") \n",
    "print('I\\'m from Entri. \\b')\n",
    "print(\"\\65\")\n",
    "print(\"\\x65\")\n",
    "print(\"Entri\",\"2023\",sep=\"\\n\")\n",
    "print(\"Entri\",\"2023\",sep=\"\\b\")\n",
    "print(\"Entri\",\"2023\",sep=\"*\",end=\"\\b\\b\\b\\b\")\n",
    "\n",
    "                        \n",
    "\n",
    "\n",
    "                              \n"
   ]
  },
  {
   "cell_type": "code",
   "execution_count": 29,
   "id": "993a8c0b-0ec7-42bc-9fcc-6ec7fd187d70",
   "metadata": {},
   "outputs": [
    {
     "name": "stdout",
     "output_type": "stream",
     "text": [
      "type of num variable is <class 'int'>\n",
      "type of textnum variable is <class 'str'>\n",
      "type of decimal variable is <class 'float'>\n",
      "\n",
      "the sum of the variables is 178.3 and the type of the result is <class 'float'>\n"
     ]
    }
   ],
   "source": [
    "#Exercise 7 Define the variables below. Print the types of each variable. \n",
    "#What is the sum of your variables? (Hint: use a type conversion function.) \n",
    "#What datatype is the sum? num=23 textnum=\"57\" decimal=98.3\n",
    "\n",
    "num =23\n",
    "textnum=\"57\"\n",
    "decimal=98.3\n",
    "\n",
    "print(f\"type of num variable is {type(num)}\")\n",
    "print(\"type of textnum variable is\",type(textnum))\n",
    "print(f\"type of decimal variable is {type(decimal)}\")\n",
    "\n",
    "print(f\"\\nthe sum of the variables is {num+int(textnum)+decimal} and the type of the result is {type(num+int(textnum)+decimal)}\")"
   ]
  },
  {
   "cell_type": "code",
   "execution_count": 45,
   "id": "63c76d22-611d-496c-a1e0-990ffdb61da4",
   "metadata": {},
   "outputs": [
    {
     "name": "stdout",
     "output_type": "stream",
     "text": [
      "There are 365 days in a year, 24 hours in a day and 60 minutes in an hour.The total number of minutes in a year is 525600\n"
     ]
    }
   ],
   "source": [
    "# Exercise 8 calculate the number of minutes in a year using variables for each unit of time. \n",
    "# print a statement that describes what your code does also. \n",
    "# Create three variables to store no of days in a year, minute in a hour, hours in a day, then calculate the total minutes in a year \n",
    "# and print the values (hint) total number of minutes in an year =No.of days in an year * Hours in a day * Minutes in an hour \n",
    "\n",
    "daysinYear=365\n",
    "minutesinHour=60\n",
    "hoursinDay=24\n",
    "numberofMinutesinYear=daysinYear*hoursinDay*minutesinHour\n",
    "print(f\"There are {daysinYear} days in a year, {hoursinDay} hours in a day and {minutesinHour} minutes in an hour.The total number of minutes in a year is {numberofMinutesinYear}\")\n",
    "\n",
    "\n",
    "\n"
   ]
  },
  {
   "cell_type": "code",
   "execution_count": 51,
   "id": "5911876c-d59e-4746-af8f-6fcd265d9915",
   "metadata": {},
   "outputs": [
    {
     "name": "stdin",
     "output_type": "stream",
     "text": [
      "Please enter your name Mufeeda\n"
     ]
    },
    {
     "name": "stdout",
     "output_type": "stream",
     "text": [
      "\n",
      "Hi Mufeeda, welcome to python programming :)\n"
     ]
    }
   ],
   "source": [
    "# Exercise 9 Write Python code that asks the user to enter his/her name and then output/prints his/her name with a greeting. \n",
    "# An example runs of the program: Please enter you name: Tony Hi Tony, welcome to Python programming :)\n",
    "\n",
    "name=input(\"Please enter your name\")\n",
    "print(f\"\\nHi {name}, welcome to python programming :)\")"
   ]
  },
  {
   "cell_type": "code",
   "execution_count": 61,
   "id": "9ac1bdff-8ffe-4c84-b62a-810ca9c1877f",
   "metadata": {},
   "outputs": [
    {
     "name": "stdin",
     "output_type": "stream",
     "text": [
      "Please enter amount in Pounds 100\n"
     ]
    },
    {
     "name": "stdout",
     "output_type": "stream",
     "text": [
      "100.00 pounds are 124.00 dollars\n"
     ]
    }
   ],
   "source": [
    "# Exercise 10 Name your file: PoundsToDollars.py Write a program that asks the user to enter an amount in pounds (£) \n",
    "# and the program calculates and converts an amount in dollar ($) \n",
    "# An example runs of the program: Please enter amount in pounds: XXX £ XXX are $ XXX\n",
    "\n",
    "pounds=float(input(\"Please enter amount in Pounds\"))\n",
    "dollars=1.24*pounds # 1pound=1.24 dollars\n",
    "print(f\"{pounds:.2f} pounds are ${dollars:.2f} dollars\")"
   ]
  },
  {
   "cell_type": "code",
   "execution_count": null,
   "id": "e4bd544b-bbb8-49e8-9b45-490575eb94df",
   "metadata": {},
   "outputs": [],
   "source": []
  }
 ],
 "metadata": {
  "kernelspec": {
   "display_name": "Python [conda env:base] *",
   "language": "python",
   "name": "conda-base-py"
  },
  "language_info": {
   "codemirror_mode": {
    "name": "ipython",
    "version": 3
   },
   "file_extension": ".py",
   "mimetype": "text/x-python",
   "name": "python",
   "nbconvert_exporter": "python",
   "pygments_lexer": "ipython3",
   "version": "3.12.7"
  }
 },
 "nbformat": 4,
 "nbformat_minor": 5
}
