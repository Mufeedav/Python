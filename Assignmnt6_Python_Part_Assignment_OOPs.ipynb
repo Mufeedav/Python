{
 "cells": [
  {
   "cell_type": "code",
   "execution_count": 35,
   "id": "bf26219d-ee74-4eed-99fa-f491537ac256",
   "metadata": {},
   "outputs": [
    {
     "name": "stdout",
     "output_type": "stream",
     "text": [
      "Course code CS101 \n",
      "Course name Introduction to Computer Science \n",
      "Credit hours 3, Required for Major: Required\n",
      "Course code PH104 \n",
      "Course name Introduction to Philosophy \n",
      "Credit hours 3 , Elective Type: liberal arts\n"
     ]
    }
   ],
   "source": [
    "\n",
    "\n",
    "\n",
    "        "
   ]
  },
  {
   "cell_type": "code",
   "execution_count": null,
   "id": "59cd6161-e33a-473a-b4da-c74f8f0ab489",
   "metadata": {},
   "outputs": [],
   "source": []
  }
 ],
 "metadata": {
  "kernelspec": {
   "display_name": "Python [conda env:base] *",
   "language": "python",
   "name": "conda-base-py"
  },
  "language_info": {
   "codemirror_mode": {
    "name": "ipython",
    "version": 3
   },
   "file_extension": ".py",
   "mimetype": "text/x-python",
   "name": "python",
   "nbconvert_exporter": "python",
   "pygments_lexer": "ipython3",
   "version": "3.12.7"
  }
 },
 "nbformat": 4,
 "nbformat_minor": 5
}
